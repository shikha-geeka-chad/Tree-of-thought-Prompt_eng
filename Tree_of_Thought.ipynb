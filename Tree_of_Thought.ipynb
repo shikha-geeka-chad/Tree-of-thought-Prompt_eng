{
  "nbformat": 4,
  "nbformat_minor": 0,
  "metadata": {
    "colab": {
      "provenance": []
    },
    "kernelspec": {
      "name": "python3",
      "display_name": "Python 3"
    },
    "language_info": {
      "name": "python"
    }
  },
  "cells": [
    {
      "cell_type": "markdown",
      "source": [
        "<h1>Tree of Thought in Prompt Engineering</h1>\n"
      ],
      "metadata": {
        "id": "PRpxuRYTjpMa"
      }
    },
    {
      "cell_type": "markdown",
      "source": [
        "Keep your API ket in env file\n",
        "\n"
      ],
      "metadata": {
        "id": "vo-3-h7rjwRC"
      }
    },
    {
      "cell_type": "code",
      "source": [
        "!pip install openai\n"
      ],
      "metadata": {
        "colab": {
          "base_uri": "https://localhost:8080/"
        },
        "id": "J6Oal2GHlaIK",
        "outputId": "716f4b0e-d6f4-4527-8161-25ac902fe6ce"
      },
      "execution_count": 2,
      "outputs": [
        {
          "output_type": "stream",
          "name": "stdout",
          "text": [
            "Collecting openai\n",
            "  Downloading openai-1.37.1-py3-none-any.whl.metadata (22 kB)\n",
            "Requirement already satisfied: anyio<5,>=3.5.0 in /usr/local/lib/python3.10/dist-packages (from openai) (3.7.1)\n",
            "Requirement already satisfied: distro<2,>=1.7.0 in /usr/lib/python3/dist-packages (from openai) (1.7.0)\n",
            "Collecting httpx<1,>=0.23.0 (from openai)\n",
            "  Downloading httpx-0.27.0-py3-none-any.whl.metadata (7.2 kB)\n",
            "Requirement already satisfied: pydantic<3,>=1.9.0 in /usr/local/lib/python3.10/dist-packages (from openai) (2.8.2)\n",
            "Requirement already satisfied: sniffio in /usr/local/lib/python3.10/dist-packages (from openai) (1.3.1)\n",
            "Requirement already satisfied: tqdm>4 in /usr/local/lib/python3.10/dist-packages (from openai) (4.66.4)\n",
            "Requirement already satisfied: typing-extensions<5,>=4.7 in /usr/local/lib/python3.10/dist-packages (from openai) (4.12.2)\n",
            "Requirement already satisfied: idna>=2.8 in /usr/local/lib/python3.10/dist-packages (from anyio<5,>=3.5.0->openai) (3.7)\n",
            "Requirement already satisfied: exceptiongroup in /usr/local/lib/python3.10/dist-packages (from anyio<5,>=3.5.0->openai) (1.2.2)\n",
            "Requirement already satisfied: certifi in /usr/local/lib/python3.10/dist-packages (from httpx<1,>=0.23.0->openai) (2024.7.4)\n",
            "Collecting httpcore==1.* (from httpx<1,>=0.23.0->openai)\n",
            "  Downloading httpcore-1.0.5-py3-none-any.whl.metadata (20 kB)\n",
            "Collecting h11<0.15,>=0.13 (from httpcore==1.*->httpx<1,>=0.23.0->openai)\n",
            "  Downloading h11-0.14.0-py3-none-any.whl.metadata (8.2 kB)\n",
            "Requirement already satisfied: annotated-types>=0.4.0 in /usr/local/lib/python3.10/dist-packages (from pydantic<3,>=1.9.0->openai) (0.7.0)\n",
            "Requirement already satisfied: pydantic-core==2.20.1 in /usr/local/lib/python3.10/dist-packages (from pydantic<3,>=1.9.0->openai) (2.20.1)\n",
            "Downloading openai-1.37.1-py3-none-any.whl (337 kB)\n",
            "\u001b[2K   \u001b[90m━━━━━━━━━━━━━━━━━━━━━━━━━━━━━━━━━━━━━━━━\u001b[0m \u001b[32m337.0/337.0 kB\u001b[0m \u001b[31m20.1 MB/s\u001b[0m eta \u001b[36m0:00:00\u001b[0m\n",
            "\u001b[?25hDownloading httpx-0.27.0-py3-none-any.whl (75 kB)\n",
            "\u001b[2K   \u001b[90m━━━━━━━━━━━━━━━━━━━━━━━━━━━━━━━━━━━━━━━━\u001b[0m \u001b[32m75.6/75.6 kB\u001b[0m \u001b[31m5.4 MB/s\u001b[0m eta \u001b[36m0:00:00\u001b[0m\n",
            "\u001b[?25hDownloading httpcore-1.0.5-py3-none-any.whl (77 kB)\n",
            "\u001b[2K   \u001b[90m━━━━━━━━━━━━━━━━━━━━━━━━━━━━━━━━━━━━━━━━\u001b[0m \u001b[32m77.9/77.9 kB\u001b[0m \u001b[31m5.6 MB/s\u001b[0m eta \u001b[36m0:00:00\u001b[0m\n",
            "\u001b[?25hDownloading h11-0.14.0-py3-none-any.whl (58 kB)\n",
            "\u001b[2K   \u001b[90m━━━━━━━━━━━━━━━━━━━━━━━━━━━━━━━━━━━━━━━━\u001b[0m \u001b[32m58.3/58.3 kB\u001b[0m \u001b[31m3.8 MB/s\u001b[0m eta \u001b[36m0:00:00\u001b[0m\n",
            "\u001b[?25hInstalling collected packages: h11, httpcore, httpx, openai\n",
            "Successfully installed h11-0.14.0 httpcore-1.0.5 httpx-0.27.0 openai-1.37.1\n"
          ]
        }
      ]
    },
    {
      "cell_type": "code",
      "source": [
        "!pip install openai --upgrade"
      ],
      "metadata": {
        "colab": {
          "base_uri": "https://localhost:8080/"
        },
        "id": "UJhQ3GPfjsf5",
        "outputId": "6eb5ce92-0343-4343-d3e3-357319a5c3fd"
      },
      "execution_count": 3,
      "outputs": [
        {
          "output_type": "stream",
          "name": "stdout",
          "text": [
            "Requirement already satisfied: openai in /usr/local/lib/python3.10/dist-packages (1.37.1)\n",
            "Requirement already satisfied: anyio<5,>=3.5.0 in /usr/local/lib/python3.10/dist-packages (from openai) (3.7.1)\n",
            "Requirement already satisfied: distro<2,>=1.7.0 in /usr/lib/python3/dist-packages (from openai) (1.7.0)\n",
            "Requirement already satisfied: httpx<1,>=0.23.0 in /usr/local/lib/python3.10/dist-packages (from openai) (0.27.0)\n",
            "Requirement already satisfied: pydantic<3,>=1.9.0 in /usr/local/lib/python3.10/dist-packages (from openai) (2.8.2)\n",
            "Requirement already satisfied: sniffio in /usr/local/lib/python3.10/dist-packages (from openai) (1.3.1)\n",
            "Requirement already satisfied: tqdm>4 in /usr/local/lib/python3.10/dist-packages (from openai) (4.66.4)\n",
            "Requirement already satisfied: typing-extensions<5,>=4.7 in /usr/local/lib/python3.10/dist-packages (from openai) (4.12.2)\n",
            "Requirement already satisfied: idna>=2.8 in /usr/local/lib/python3.10/dist-packages (from anyio<5,>=3.5.0->openai) (3.7)\n",
            "Requirement already satisfied: exceptiongroup in /usr/local/lib/python3.10/dist-packages (from anyio<5,>=3.5.0->openai) (1.2.2)\n",
            "Requirement already satisfied: certifi in /usr/local/lib/python3.10/dist-packages (from httpx<1,>=0.23.0->openai) (2024.7.4)\n",
            "Requirement already satisfied: httpcore==1.* in /usr/local/lib/python3.10/dist-packages (from httpx<1,>=0.23.0->openai) (1.0.5)\n",
            "Requirement already satisfied: h11<0.15,>=0.13 in /usr/local/lib/python3.10/dist-packages (from httpcore==1.*->httpx<1,>=0.23.0->openai) (0.14.0)\n",
            "Requirement already satisfied: annotated-types>=0.4.0 in /usr/local/lib/python3.10/dist-packages (from pydantic<3,>=1.9.0->openai) (0.7.0)\n",
            "Requirement already satisfied: pydantic-core==2.20.1 in /usr/local/lib/python3.10/dist-packages (from pydantic<3,>=1.9.0->openai) (2.20.1)\n"
          ]
        }
      ]
    },
    {
      "cell_type": "markdown",
      "source": [
        "API key and Client Setup\n"
      ],
      "metadata": {
        "id": "nofcLvc4lnj1"
      }
    },
    {
      "cell_type": "code",
      "source": [
        "import os\n",
        "from openai import OpenAI\n",
        "os.environ[\"OPENAI_API_KEY\"]=key\n",
        "client = OpenAI()"
      ],
      "metadata": {
        "id": "f2a8dy19lcpE"
      },
      "execution_count": 5,
      "outputs": []
    },
    {
      "cell_type": "code",
      "source": [],
      "metadata": {
        "id": "yElTtxw8l33c"
      },
      "execution_count": 5,
      "outputs": []
    },
    {
      "cell_type": "markdown",
      "source": [
        "\n",
        "Creating Class"
      ],
      "metadata": {
        "id": "2Y0mGT2ns7w2"
      }
    },
    {
      "cell_type": "code",
      "source": [
        "import openai\n",
        "import time\n",
        "\n",
        "class TreeOfThoughts:\n",
        "    def __init__(self, prompt, max_depth=3, branch_factor=3, api_key=None):\n",
        "        self.prompt = prompt\n",
        "        self.max_depth = max_depth\n",
        "        self.branch_factor = branch_factor\n",
        "        self.tree = {\"root\": []}\n",
        "        openai.api_key = api_key\n",
        "\n",
        "    def generate_thought(self, parent_thought):\n",
        "        prompt = f\"Based on the thought '{parent_thought}', generate a new thought or idea:\"\n",
        "        response= client.chat.completions.create(\n",
        "            messages=[\n",
        "                {\"role\": \"system\", \"content\": \"You are a helpful assistant.\"},\n",
        "                {\"role\": \"user\", \"content\": prompt}\n",
        "            ],\n",
        "            model=\"gpt-3.5-turbo\",\n",
        "        )\n",
        "\n",
        "        return response.choices[0].message.content.strip()\n",
        "\n",
        "    def evaluate_thought(self, thought):\n",
        "        prompt = f\"On a scale of 0 to 1, how promising is this thought for solving the problem '{self.prompt}'? Thought: '{thought}'\\nJust respond with a number between 0 and 1.\"\n",
        "        response= client.chat.completions.create(\n",
        "            messages=[\n",
        "                {\"role\": \"system\", \"content\": \"You are a helpful assistant.\"},\n",
        "                {\"role\": \"user\", \"content\": prompt}\n",
        "            ],\n",
        "            model=\"gpt-3.5-turbo\",\n",
        "        )\n",
        "        try:\n",
        "            score = float(response.choices[0].message.content.strip())\n",
        "            return max(0, min(score, 1))  # Ensure score is between 0 and 1\n",
        "        except ValueError:\n",
        "            return 0.5  # Default score if parsing fails\n",
        "\n",
        "    def expand_tree(self, node=\"root\", depth=0):\n",
        "        if depth >= self.max_depth:\n",
        "            return\n",
        "\n",
        "        if node not in self.tree:\n",
        "            self.tree[node] = []\n",
        "\n",
        "        for _ in range(self.branch_factor):\n",
        "            new_thought = self.generate_thought(node)\n",
        "            score = self.evaluate_thought(new_thought)\n",
        "            self.tree[node].append((new_thought, score))\n",
        "\n",
        "            if score > 0.7:  # Only expand promising thoughts\n",
        "                self.expand_tree(new_thought, depth + 1)\n",
        "\n",
        "            time.sleep(1)  # To avoid hitting API rate limits\n",
        "\n",
        "    def best_path(self):\n",
        "        path = [\"root\"]\n",
        "        current = \"root\"\n",
        "        while current in self.tree and self.tree[current]:\n",
        "            best_thought = max(self.tree[current], key=lambda x: x[1])\n",
        "            current = best_thought[0]\n",
        "            path.append(current)\n",
        "        return path\n",
        "\n",
        "    def solve(self):\n",
        "        self.expand_tree()\n",
        "        return self.best_path()\n",
        "\n",
        "\n",
        "\n",
        "\n",
        "\n"
      ],
      "metadata": {
        "id": "KTwvNBAql4-A"
      },
      "execution_count": 6,
      "outputs": []
    },
    {
      "cell_type": "code",
      "source": [
        "# Example usage\n",
        "api_key = key\n",
        "tot = TreeOfThoughts(\"How can we reduce plastic waste in oceans?\", api_key=api_key)\n",
        "solution_path = tot.solve()"
      ],
      "metadata": {
        "id": "Wi1lSb6athSf"
      },
      "execution_count": null,
      "outputs": []
    },
    {
      "cell_type": "markdown",
      "source": [],
      "metadata": {
        "id": "HBmRyf-smqmy"
      }
    },
    {
      "cell_type": "code",
      "source": [
        "from IPython.display import Markdown, display\n",
        "\n",
        "# Create a markdown string\n",
        "markdown_text = \"### Best Solution Path:\\n\"\n",
        "for step in solution_path:\n",
        "    markdown_text += f\"- {step}\\n\"\n",
        "\n"
      ],
      "metadata": {
        "id": "sTNOZ3mhmE2m"
      },
      "execution_count": 7,
      "outputs": []
    },
    {
      "cell_type": "code",
      "source": [
        "\n",
        "# Display the markdown\n",
        "display(Markdown(markdown_text))"
      ],
      "metadata": {
        "colab": {
          "base_uri": "https://localhost:8080/",
          "height": 152
        },
        "id": "FilxCfQVm765",
        "outputId": "6cfd1e7b-f09f-4a83-8157-4c3403a45598"
      },
      "execution_count": 8,
      "outputs": [
        {
          "output_type": "display_data",
          "data": {
            "text/plain": [
              "<IPython.core.display.Markdown object>"
            ],
            "text/markdown": "### Best Solution Path:\n- root\n- The thought of \"root\" can inspire the idea of exploring and understanding the fundamental origins and underlying principles of a concept or problem. By delving into the root causes and factors influencing a situation, one can gain deeper insights and develop more effective solutions.\n- \"Like a tree's roots anchoring it firmly in the ground, understanding the root of a problem can provide stability and clarity, allowing for growth and transformation to take place.\"\n"
          },
          "metadata": {}
        }
      ]
    },
    {
      "cell_type": "markdown",
      "source": [],
      "metadata": {
        "id": "BvWSji5mnFjT"
      }
    },
    {
      "cell_type": "code",
      "source": [],
      "metadata": {
        "id": "Hrzabg9AnR8K"
      },
      "execution_count": null,
      "outputs": []
    }
  ]
}